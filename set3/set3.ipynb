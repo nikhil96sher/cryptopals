{
 "cells": [
  {
   "cell_type": "code",
   "execution_count": 7,
   "metadata": {
    "collapsed": false
   },
   "outputs": [],
   "source": [
    "import set1_util as set1\n",
    "import set2_util as set2\n",
    "from Crypto.Cipher import AES\n",
    "import os\n",
    "import random\n",
    "import struct\n",
    "import base64\n",
    "import string\n",
    "KEYSIZE = 16"
   ]
  },
  {
   "cell_type": "code",
   "execution_count": 8,
   "metadata": {
    "collapsed": false
   },
   "outputs": [],
   "source": [
    "#Challenge 17 - CBC Padding Oracle\n",
    "KEY = os.urandom(KEYSIZE)\n",
    "\n",
    "def fun1():\n",
    "    a = open('17.txt').read().split('\\n')\n",
    "    index = random.randint(0,9)\n",
    "    IV = os.urandom(KEYSIZE)\n",
    "    return AES.new(KEY,AES.MODE_CBC,IV).encrypt(set2.pkcs7(a[index])),IV\n",
    "\n",
    "def fun2(cipher,iv): #Padding Oracle\n",
    "    return set2.validate_pkcs(AES.new(KEY,AES.MODE_CBC,iv).decrypt(cipher))"
   ]
  },
  {
   "cell_type": "code",
   "execution_count": 9,
   "metadata": {
    "collapsed": false
   },
   "outputs": [
    {
     "name": "stdout",
     "output_type": "stream",
     "text": [
      "4\n",
      "Got :  151\n",
      "3\n",
      "Got :  129\n",
      "2\n",
      "Got :  64\n",
      "1\n",
      "Got :  101\n",
      "0\n",
      "Got :  250\n"
     ]
    }
   ],
   "source": [
    "#Exevuting Padding Oracle Attack\n",
    "\n",
    "cipher,iv = fun1()\n",
    "fun2(cipher,iv)\n",
    "\n",
    "blocks = [iv]\n",
    "temp = ([cipher[i:i+KEYSIZE] for i in xrange(0,len(cipher),KEYSIZE)])\n",
    "for j in temp:\n",
    "    blocks.append(j)\n",
    "# print blocks\n",
    "# print len(blocks)\n",
    "for i in xrange(0,len(blocks)):\n",
    "    index = len(blocks) - i - 1\n",
    "    print index\n",
    "    last = blocks[index]\n",
    "    prev = blocks[index-1]\n",
    "    for j in xrange(0,256):\n",
    "        last = last[:15] + chr(j)\n",
    "        if fun2(last+prev,iv):\n",
    "            print \"Got : \",j\n",
    "    #Now I need to brute force prev and obtain 01h at end of "
   ]
  },
  {
   "cell_type": "code",
   "execution_count": 10,
   "metadata": {
    "collapsed": false
   },
   "outputs": [],
   "source": [
    "#Challenge 18 - CTR, The Stream Cipher Mode\n",
    "class CTR:\n",
    "    def __init__(self, key, nonce):\n",
    "        self.key = key\n",
    "        self.nonce = nonce\n",
    "        self.ctr = 0\n",
    "\n",
    "    def keystream(self,byte_count):\n",
    "        data = struct.pack(\"<Q\",self.nonce)+struct.pack(\"<Q\",byte_count)\n",
    "        return AES.new(self.key,AES.MODE_ECB).encrypt(data)\n",
    "    \n",
    "    def encrypt(self,data):\n",
    "        #Divide data into 16 bytes block\n",
    "        data = [data[i:min(i+16,len(data))] for i in range(0,len(data),16)]\n",
    "        s = \"\"\n",
    "        for i in range(0,len(data)):\n",
    "            s = s + set1.xor_string(data[i].encode('hex'),self.keystream(i).encode('hex'))\n",
    "        return s.decode('hex')\n",
    "\n",
    "    def decrypt(self,data):\n",
    "        return self.encrypt(data)"
   ]
  },
  {
   "cell_type": "code",
   "execution_count": 11,
   "metadata": {
    "collapsed": false
   },
   "outputs": [
    {
     "name": "stdout",
     "output_type": "stream",
     "text": [
      "Yo, VIP Let's kick it Ice, Ice, baby Ice, Ice, baby \n"
     ]
    }
   ],
   "source": [
    "data = \"L77na/nrFsKvynd6HzOoG7GHTLXsTVu9qvY/2syLXzhPweyyMTJULu/6/kXX0KSvoOLSFQ==\"\n",
    "key = \"YELLOW SUBMARINE\"\n",
    "nonce = 0\n",
    "ctr = CTR(key,nonce)\n",
    "print ctr.decrypt(base64.b64decode(data))"
   ]
  },
  {
   "cell_type": "code",
   "execution_count": 12,
   "metadata": {
    "collapsed": false
   },
   "outputs": [],
   "source": [
    "#Scoring Algo #1\n",
    "#Taken from http://www.counton.org/explorer/codebreaking/frequency-analysis.php\n",
    "freq = {}\n",
    "freq['A'] = 8.2\n",
    "freq['B'] = 1.5\n",
    "freq['C'] = 2.8\n",
    "freq['D'] = 4.3\n",
    "freq['E'] = 12.7\n",
    "freq['F'] = 2.2\n",
    "freq['G'] = 2.0\n",
    "freq['H'] = 6.1\n",
    "freq['I'] = 7.0\n",
    "freq['J'] = 0.2\n",
    "freq['K'] = 0.8\n",
    "freq['L'] = 4.0\n",
    "freq['M'] = 2.4\n",
    "freq['N'] = 6.7\n",
    "freq['O'] = 7.5\n",
    "freq['P'] = 1.9\n",
    "freq['Q'] = 0.1\n",
    "freq['R'] = 6.0\n",
    "freq['S'] = 6.3\n",
    "freq['T'] = 9.1\n",
    "freq['U'] = 2.8\n",
    "freq['V'] = 1.0\n",
    "freq['W'] = 2.4\n",
    "freq['X'] = 0.2\n",
    "freq['Y'] = 2.0\n",
    "freq['Z'] = 0.1\n",
    "\n",
    "INF = 1e9\n",
    "\n",
    "def worth(char):\n",
    "    try:\n",
    "        k = char.upper()\n",
    "        return freq[k]\n",
    "    except:\n",
    "        if char == ' ': #Space\n",
    "            return 4.0\n",
    "        elif char in string.printable: #Other special characters\n",
    "            return 0.01\n",
    "        else:\n",
    "            return -INF"
   ]
  },
  {
   "cell_type": "code",
   "execution_count": 13,
   "metadata": {
    "collapsed": true
   },
   "outputs": [],
   "source": [
    "#Scoring Algo #2\n",
    "#Taken from http://blogs.sas.com/content/iml/2014/09/19/frequency-of-letters.html\n",
    "freq = {}\n",
    "freq['A'] = 8.04\n",
    "freq['B'] = 1.48\n",
    "freq['C'] = 3.34\n",
    "freq['D'] = 3.82\n",
    "freq['E'] = 12.49\n",
    "freq['F'] = 2.40\n",
    "freq['G'] = 1.87\n",
    "freq['H'] = 5.05\n",
    "freq['I'] = 7.57\n",
    "freq['J'] = 0.16\n",
    "freq['K'] = 0.54\n",
    "freq['L'] = 4.0\n",
    "freq['M'] = 2.51\n",
    "freq['N'] = 7.23\n",
    "freq['O'] = 7.64\n",
    "freq['P'] = 2.14\n",
    "freq['Q'] = 0.12\n",
    "freq['R'] = 6.28\n",
    "freq['S'] = 6.51\n",
    "freq['T'] = 9.28\n",
    "freq['U'] = 2.73\n",
    "freq['V'] = 1.05\n",
    "freq['W'] = 1.68\n",
    "freq['X'] = 0.23\n",
    "freq['Y'] = 1.66\n",
    "freq['Z'] = 0.09\n",
    "\n",
    "INF = 1e9\n",
    "\n",
    "def worth(char):\n",
    "    try:\n",
    "        k = char.upper()\n",
    "        return freq[k]\n",
    "    except:\n",
    "        if char == ' ': #Space\n",
    "            return 4.0\n",
    "        elif char in string.printable: #Other special characters\n",
    "            return 0.01\n",
    "        else:\n",
    "            return -INF"
   ]
  },
  {
   "cell_type": "code",
   "execution_count": 14,
   "metadata": {
    "collapsed": true
   },
   "outputs": [],
   "source": [
    "#Scoring Algo #3\n",
    "#Taken from jaybosamiya\n",
    "freq = {}\n",
    "freq['a'] = 834\n",
    "freq['b'] = 154\n",
    "freq['c'] = 273\n",
    "freq['d'] = 414\n",
    "freq['e'] = 1260\n",
    "freq['f'] = 203\n",
    "freq['g'] = 192\n",
    "freq['h'] = 611\n",
    "freq['i'] = 671\n",
    "freq['j'] = 23\n",
    "freq['k'] = 87\n",
    "freq['l'] = 424\n",
    "freq['m'] = 253\n",
    "freq['n'] = 680\n",
    "freq['o'] = 770\n",
    "freq['p'] = 166\n",
    "freq['q'] = 9\n",
    "freq['r'] = 568\n",
    "freq['s'] = 611\n",
    "freq['t'] = 937\n",
    "freq['u'] = 285\n",
    "freq['v'] = 106\n",
    "freq['w'] = 234\n",
    "freq['x'] = 20\n",
    "freq['y'] = 204\n",
    "freq['z'] = 6\n",
    "freq[' '] = 2320\n",
    "INF = 1e9\n",
    "\n",
    "def worth(char):\n",
    "    try:\n",
    "        k = char.lower()\n",
    "        return freq[k]\n",
    "    except:\n",
    "        if char in string.printable: #Other special characters\n",
    "            return 1\n",
    "        else:\n",
    "            return -INF"
   ]
  },
  {
   "cell_type": "code",
   "execution_count": 79,
   "metadata": {
    "collapsed": false
   },
   "outputs": [
    {
     "name": "stdout",
     "output_type": "stream",
     "text": [
      "161\n",
      "[-]  'Ciphe\\x87s cGnabe viEw d E6 a\"proximating the a0tHo  oF a proven un)reakAble cipher, th6 ON -time Aad OTP  sCMetimeE known aS t-e Rer mm cDphE '\n",
      "[-]  'a one\\xd8timC 1ad usEsea O ys&ream of completel* Sa doM digit. The  eystReam is combine7 WI1h the Alaintett HIgits Yne at a Tim  tk f!~m tEe C;pher&eEU'\n",
      "[-]  \"the k\\x90ystTe m musT 'e C ne ated completely a' Sa doM with at lea8t thE same length a  TH  plainEext anh cMNnot bS used moRe 1haj o oe\"\n",
      "[-]  'this \\x98akeU 5he sySt m R ryrcumbersome to imp?eLe t In practice, *nd aS a result the <nE\\r1ime paU has nct NEen wiRely used\\x0c e=cett (cr tEe M=st c iIH&al   1 IE$ti /S'\n",
      "[-]  'a str\\x90am Ei1her mAk s Q6e =f a much smaller 2nE #orE convenient  ey sUch as 128 bits} bA6ed on Ehis keu, ET geneDates a pSeu!orend!a keTstR7am'\n",
      "[-]  'a str\\x90am Ei1her gEn raP s !uccessive element  NfnthE keystream b*sed On an internal  tAT '\n",
      "[-]  'in a \\x86yncNr.nous St7eaIeci\"her a stream of p eTd!-rAndom digits \"s geNerated indepen7eNT)y of tYe plaibteTT and UiphertexT m ssege=  anI tH7n co?bTO d w($)lTN  p# I T   '\n",
      "[-]  'if, h\\x9awevCrm a diGi1 iWeco rupted in transmi sHo , Rather than a/ded Or lost, only assIN\"le digXt in tde \\\\LainteNt is affEct d endnxhe HrrO  doe! SN1 pr.  +AR  t aO:H *t                    '\n",
      "[-]  'anoth\\x90r aVp3oach Us s W ve al of the previou  o -ipHertext digit8 to Compute the key tRE$m. SucY schemis MRe knoAn as selF-s<nclro ezinJ sT eam 1iMI rs'\n",
      "[-]  'binar\\x8c stTe m cipHe7s E7e =ften constructed &sHn) lInear feedbac  shiFt registers be0aUS  they Ran be iasELy impZemented In -ar`wa<i anI cA< be  e\\\\E,ly  >  YU d \" T&E(9 9\"38?y'\n",
      "[-]  'when \\x80sinA   streAmeciT-er~ never use the ke* Lo<e Than once!'\n"
     ]
    },
    {
     "data": {
      "text/plain": [
       "100.0"
      ]
     },
     "execution_count": 79,
     "metadata": {},
     "output_type": "execute_result"
    }
   ],
   "source": [
    "#Challenge 20 - Break Fixed Nonce XOR Statistically\n",
    "#Divide into cipher, encrypt based on key\n",
    "a = open('message.txt').read().split('\\n')\n",
    "aa = []\n",
    "for j in a:\n",
    "    aa.append(base64.b64encode(j.decode('hex')))\n",
    "a = aa\n",
    "# print a\n",
    "KEY = os.urandom(KEYSIZE)\n",
    "nonce = random.randint(0,2**64-1)\n",
    "ctr = CTR(key,nonce)"
   ]
  },
  {
   "cell_type": "code",
   "execution_count": 97,
   "metadata": {
    "collapsed": false
   },
   "outputs": [],
   "source": [
    "#Challenge 19 - Attack using XOR Substitution\n",
    "#Let us start guessing stuff..\n",
    "#I have Fixed Byte (unknown) XOR with PlainText (In ASCII Range) => Known Value\n",
    "def break_CTR(cipher,actual):\n",
    "    TOTAL = len(cipher)\n",
    "    MAX_LEN = len(max(cipher,key = len))\n",
    "    bytes = {}\n",
    "    #ith byte of each block\n",
    "    for i in xrange(0,MAX_LEN):\n",
    "        maxi = 0\n",
    "        maxj = 1\n",
    "\n",
    "        #Find first index such that it exists\n",
    "        for k in xrange(0,TOTAL):\n",
    "            try:\n",
    "                fix = ord(cipher[k][i]) \n",
    "                break\n",
    "            except:\n",
    "                pass\n",
    "\n",
    "        #Take plaintext of first valid block as j\n",
    "        for j in xrange(1,128): \n",
    "            #Find fixed keystream byte\n",
    "            fixed = fix ^ j\n",
    "            flag = True\n",
    "            score = 0\n",
    "            for k in xrange(0,TOTAL):\n",
    "                try:\n",
    "                    char = chr(ord(cipher[k][i])^fixed)\n",
    "                    score += worth(char)\n",
    "                except:\n",
    "                    pass\n",
    "            if score>maxi:\n",
    "#                 print i,maxj\n",
    "                maxi = score\n",
    "                maxj = fixed\n",
    "        bytes[i] = maxj\n",
    "    bytes[5] = 17^ord('r')^ord('7')\n",
    "    bytes[9] = 83^ord('A')^ord('g')\n",
    "    s1 = 'Ciphers canabe viEw d E6 a\"proximating the a0tHo  oF a proven un)reakAble cipher, th6 ON -time Aad OTP  sCMetimeE known aS t-e Rer mm cDphE '\n",
    "    s0 = 'Ciphers can be viewed as approximating the a0tHo  of a proven unbreakable cipher, the ONe-time Aad OTP  sCMetimeE known aS t-e Rer mm cDphE '\n",
    "    ind = 0\n",
    "    for x,y in zip(s1,s0):\n",
    "        bytes[ind] = bytes[ind]^ord(x)^ord(y)\n",
    "        ind += 1\n",
    "    # s1 = \n",
    "# for j in \n",
    "#     bytes[5] = ord('D')\n",
    "    #Accuracy analysis based on characters differing\n",
    "    incorrect = 0\n",
    "    result = []\n",
    "    for j in xrange(0,TOTAL):\n",
    "        predicted = ''.join([chr(ord(value)^bytes[index]) for index,value in enumerate(cipher[j])])\n",
    "#         actual = base64.b64decode(a[j])\n",
    "#         result.append(predicted)\n",
    "#         if predicted != actual:\n",
    "#             print \"Incorrectly predicted\"\n",
    "        print \"[-] \",repr(predicted)\n",
    "#             print \"[+] \",repr(actual)\n",
    "#             for x,y in zip(predicted,actual):\n",
    "#                 incorrect += not(x == y)\n",
    "    total = sum([len(j) for j in a])\n",
    "    accuracy = (total - incorrect)*100.0/total\n",
    "    return accuracy"
   ]
  },
  {
   "cell_type": "code",
   "execution_count": 98,
   "metadata": {
    "collapsed": false
   },
   "outputs": [
    {
     "name": "stdout",
     "output_type": "stream",
     "text": [
      "[-]  'Ciphers can be viewed as approximating the a0tHo  of a proven unbreakable cipher, the ONe-time Aad OTP  sCMetimeE known aS t-e Rer mm cDphE '\n",
      "[-]  'a one-time pad uses a keystream of completel* Sa dom digit. The keystream is combined WIth the Alaintett HIgits Yne at a Tim  tk f!~m tEe C;pher&eEU'\n",
      "[-]  \"the keystream must be generated completely a' Sa dom with at least the same length as THe plainEext anh cMNnot bS used moRe 1haj o oe\"\n",
      "[-]  'this makes the system very cumbersome to imp?eLe t in practice, and as a result the onE\\rtime paU has nct NEen wiRely used\\x0c e=cett (cr tEe M=st c iIH&al   1 IE$ti /S'\n",
      "[-]  'a stream cipher makes use of a much smaller 2nE #ore convenient key such as 128 bits. bAsed on Ehis keu, ET geneDates a pSeu!orend!a keTstR7am'\n",
      "[-]  'a stream cipher generates successive element  Nfnthe keystream based on an internal stATe'\n",
      "[-]  'in a synchronous stream cipher a stream of p eTd!-random digits is generated independeNTly of tYe plaibteTT and UiphertexT m ssege=  anI tH7n co?bTO d w($)lTN  p# I T   '\n",
      "[-]  'if, however, a digit is corrupted in transmi sHo , rather than added or lost, only a sINgle digXt in tde \\\\LainteNt is affEct d endnxhe HrrO  doe! SN1 pr.  +AR  t aO:H *t                    '\n",
      "[-]  'another approach uses several of the previou  o -iphertext digits to compute the keystREam. SucY schemis MRe knoAn as selF-s<nclro ezinJ sT eam 1iMI rs'\n",
      "[-]  'binary stream ciphers are often constructed &sHn) linear feedback shift registers becaUSe they Ran be iasELy impZemented In -ar`wa<i anI cA< be  e\\\\E,ly  >  YU d \" T&E(9 9\"38?y'\n",
      "[-]  'when using a stream cipher, never use the ke* Lo<e than once!'\n"
     ]
    },
    {
     "data": {
      "text/plain": [
       "100.0"
      ]
     },
     "execution_count": 98,
     "metadata": {},
     "output_type": "execute_result"
    }
   ],
   "source": [
    "cipher = []\n",
    "for j in a:\n",
    "    cipher.append(ctr.encrypt(base64.b64decode(j)))\n",
    "break_CTR(cipher,a)"
   ]
  },
  {
   "cell_type": "code",
   "execution_count": 16,
   "metadata": {
    "collapsed": false
   },
   "outputs": [
    {
     "data": {
      "text/plain": [
       "98.32474226804123"
      ]
     },
     "execution_count": 16,
     "metadata": {},
     "output_type": "execute_result"
    }
   ],
   "source": [
    "#Challenge 19 - Break Fixed Nonce XOR\n",
    "#Divide into cipher, encrypt based on key\n",
    "a = open('19.txt').read().split('\\n')\n",
    "KEY = os.urandom(KEYSIZE)\n",
    "nonce = random.randint(0,2**64-1)\n",
    "ctr = CTR(key,nonce)\n",
    "cipher = []\n",
    "for j in a:\n",
    "    cipher.append(ctr.encrypt(base64.b64decode(j)))\n",
    "break_CTR(cipher,a)"
   ]
  },
  {
   "cell_type": "code",
   "execution_count": 11,
   "metadata": {
    "collapsed": false
   },
   "outputs": [
    {
     "data": {
      "text/plain": [
       "98.57558139534883"
      ]
     },
     "execution_count": 11,
     "metadata": {},
     "output_type": "execute_result"
    }
   ],
   "source": [
    "#Challenge 20 - Break Fixed Nonce XOR Statistically\n",
    "#Divide into cipher, encrypt based on key\n",
    "a = open('20.txt').read().split(' ')\n",
    "KEY = os.urandom(KEYSIZE)\n",
    "nonce = random.randint(0,2**64-1)\n",
    "ctr = CTR(key,nonce)\n",
    "cipher = []\n",
    "for j in a:\n",
    "    cipher.append(ctr.encrypt(base64.b64decode(j)))\n",
    "break_CTR(cipher,a)"
   ]
  },
  {
   "cell_type": "code",
   "execution_count": null,
   "metadata": {
    "collapsed": true
   },
   "outputs": [],
   "source": [
    "#Challenge 21 - MT19937 Mersenne Twister RNG\n"
   ]
  }
 ],
 "metadata": {
  "kernelspec": {
   "display_name": "Python 2",
   "language": "python",
   "name": "python2"
  },
  "language_info": {
   "codemirror_mode": {
    "name": "ipython",
    "version": 2
   },
   "file_extension": ".py",
   "mimetype": "text/x-python",
   "name": "python",
   "nbconvert_exporter": "python",
   "pygments_lexer": "ipython2",
   "version": "2.7.12+"
  }
 },
 "nbformat": 4,
 "nbformat_minor": 2
}
